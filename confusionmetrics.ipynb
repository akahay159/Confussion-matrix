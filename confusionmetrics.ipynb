{
 "cells": [
  {
   "cell_type": "code",
   "execution_count": 4,
   "metadata": {},
   "outputs": [
    {
     "name": "stdout",
     "output_type": "stream",
     "text": [
      "[[4 2]\n",
      " [1 3]]\n"
     ]
    }
   ],
   "source": [
    "from sklearn.metrics import confusion_matrix\n",
    "expected=[1,1,0,1,0,0,1,0,0,0]\n",
    "predicted=[1,0,0,1,0,0,1,0,1,1]\n",
    "result=confusion_matrix(expected,predicted)\n",
    "print(result)"
   ]
  },
  {
   "cell_type": "code",
   "execution_count": 7,
   "metadata": {},
   "outputs": [
    {
     "name": "stdout",
     "output_type": "stream",
     "text": [
      "0.7\n"
     ]
    }
   ],
   "source": [
    "# describe\n",
    "# 0 is predicted 0 in 4 times\n",
    "# 1 is predicted 0 in 2 times\n",
    "# 1 is predicted 1 is 1 time\n",
    "# 1 is predicted 0 is 3 times\n",
    "# 7 correct prediction and 3 wrong prediction\n",
    "accuracy=(4+3)/(4+3+2+1)\n",
    "print(accuracy)#70 percent accurate"
   ]
  },
  {
   "cell_type": "code",
   "execution_count": null,
   "metadata": {},
   "outputs": [],
   "source": []
  }
 ],
 "metadata": {
  "kernelspec": {
   "display_name": "Python 3",
   "language": "python",
   "name": "python3"
  },
  "language_info": {
   "codemirror_mode": {
    "name": "ipython",
    "version": 3
   },
   "file_extension": ".py",
   "mimetype": "text/x-python",
   "name": "python",
   "nbconvert_exporter": "python",
   "pygments_lexer": "ipython3",
   "version": "3.7.3"
  }
 },
 "nbformat": 4,
 "nbformat_minor": 2
}
